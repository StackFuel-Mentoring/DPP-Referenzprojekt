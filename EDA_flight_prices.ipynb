{
 "cells": [
  {
   "cell_type": "code",
   "execution_count": 1,
   "metadata": {},
   "outputs": [],
   "source": [
    "import pandas as pd\n",
    "import numpy as np\n",
    "import matplotlib.pyplot as plt\n",
    "import seaborn as sns"
   ]
  },
  {
   "cell_type": "code",
   "execution_count": 3,
   "metadata": {},
   "outputs": [
    {
     "data": {
      "text/html": [
       "<div>\n",
       "<style scoped>\n",
       "    .dataframe tbody tr th:only-of-type {\n",
       "        vertical-align: middle;\n",
       "    }\n",
       "\n",
       "    .dataframe tbody tr th {\n",
       "        vertical-align: top;\n",
       "    }\n",
       "\n",
       "    .dataframe thead th {\n",
       "        text-align: right;\n",
       "    }\n",
       "</style>\n",
       "<table border=\"1\" class=\"dataframe\">\n",
       "  <thead>\n",
       "    <tr style=\"text-align: right;\">\n",
       "      <th></th>\n",
       "      <th>Unnamed: 0</th>\n",
       "      <th>airline</th>\n",
       "      <th>flight</th>\n",
       "      <th>source_city</th>\n",
       "      <th>departure_time</th>\n",
       "      <th>stops</th>\n",
       "      <th>arrival_time</th>\n",
       "      <th>destination_city</th>\n",
       "      <th>class</th>\n",
       "      <th>duration</th>\n",
       "      <th>days_left</th>\n",
       "      <th>price</th>\n",
       "    </tr>\n",
       "  </thead>\n",
       "  <tbody>\n",
       "    <tr>\n",
       "      <th>0</th>\n",
       "      <td>0</td>\n",
       "      <td>SpiceJet</td>\n",
       "      <td>SG-8709</td>\n",
       "      <td>Delhi</td>\n",
       "      <td>Evening</td>\n",
       "      <td>zero</td>\n",
       "      <td>Night</td>\n",
       "      <td>Mumbai</td>\n",
       "      <td>Economy</td>\n",
       "      <td>2.17</td>\n",
       "      <td>1</td>\n",
       "      <td>5953</td>\n",
       "    </tr>\n",
       "    <tr>\n",
       "      <th>1</th>\n",
       "      <td>1</td>\n",
       "      <td>SpiceJet</td>\n",
       "      <td>SG-8157</td>\n",
       "      <td>Delhi</td>\n",
       "      <td>Early_Morning</td>\n",
       "      <td>zero</td>\n",
       "      <td>Morning</td>\n",
       "      <td>Mumbai</td>\n",
       "      <td>Economy</td>\n",
       "      <td>2.33</td>\n",
       "      <td>1</td>\n",
       "      <td>5953</td>\n",
       "    </tr>\n",
       "    <tr>\n",
       "      <th>2</th>\n",
       "      <td>2</td>\n",
       "      <td>AirAsia</td>\n",
       "      <td>I5-764</td>\n",
       "      <td>Delhi</td>\n",
       "      <td>Early_Morning</td>\n",
       "      <td>zero</td>\n",
       "      <td>Early_Morning</td>\n",
       "      <td>Mumbai</td>\n",
       "      <td>Economy</td>\n",
       "      <td>2.17</td>\n",
       "      <td>1</td>\n",
       "      <td>5956</td>\n",
       "    </tr>\n",
       "    <tr>\n",
       "      <th>3</th>\n",
       "      <td>3</td>\n",
       "      <td>Vistara</td>\n",
       "      <td>UK-995</td>\n",
       "      <td>Delhi</td>\n",
       "      <td>Morning</td>\n",
       "      <td>zero</td>\n",
       "      <td>Afternoon</td>\n",
       "      <td>Mumbai</td>\n",
       "      <td>Economy</td>\n",
       "      <td>2.25</td>\n",
       "      <td>1</td>\n",
       "      <td>5955</td>\n",
       "    </tr>\n",
       "    <tr>\n",
       "      <th>4</th>\n",
       "      <td>4</td>\n",
       "      <td>Vistara</td>\n",
       "      <td>UK-963</td>\n",
       "      <td>Delhi</td>\n",
       "      <td>Morning</td>\n",
       "      <td>zero</td>\n",
       "      <td>Morning</td>\n",
       "      <td>Mumbai</td>\n",
       "      <td>Economy</td>\n",
       "      <td>2.33</td>\n",
       "      <td>1</td>\n",
       "      <td>5955</td>\n",
       "    </tr>\n",
       "  </tbody>\n",
       "</table>\n",
       "</div>"
      ],
      "text/plain": [
       "   Unnamed: 0   airline   flight source_city departure_time stops  \\\n",
       "0           0  SpiceJet  SG-8709       Delhi        Evening  zero   \n",
       "1           1  SpiceJet  SG-8157       Delhi  Early_Morning  zero   \n",
       "2           2   AirAsia   I5-764       Delhi  Early_Morning  zero   \n",
       "3           3   Vistara   UK-995       Delhi        Morning  zero   \n",
       "4           4   Vistara   UK-963       Delhi        Morning  zero   \n",
       "\n",
       "    arrival_time destination_city    class  duration  days_left  price  \n",
       "0          Night           Mumbai  Economy      2.17          1   5953  \n",
       "1        Morning           Mumbai  Economy      2.33          1   5953  \n",
       "2  Early_Morning           Mumbai  Economy      2.17          1   5956  \n",
       "3      Afternoon           Mumbai  Economy      2.25          1   5955  \n",
       "4        Morning           Mumbai  Economy      2.33          1   5955  "
      ]
     },
     "execution_count": 3,
     "metadata": {},
     "output_type": "execute_result"
    }
   ],
   "source": [
    "df = pd.read_csv('data/Clean_Dataset.csv')\n",
    "df.head()"
   ]
  },
  {
   "cell_type": "code",
   "execution_count": 5,
   "metadata": {},
   "outputs": [
    {
     "data": {
      "text/plain": [
       "(300153, 12)"
      ]
     },
     "execution_count": 5,
     "metadata": {},
     "output_type": "execute_result"
    }
   ],
   "source": [
    "df.shape"
   ]
  },
  {
   "cell_type": "code",
   "execution_count": 6,
   "metadata": {},
   "outputs": [
    {
     "data": {
      "text/plain": [
       "Unnamed: 0          0\n",
       "airline             0\n",
       "flight              0\n",
       "source_city         0\n",
       "departure_time      0\n",
       "stops               0\n",
       "arrival_time        0\n",
       "destination_city    0\n",
       "class               0\n",
       "duration            0\n",
       "days_left           0\n",
       "price               0\n",
       "dtype: int64"
      ]
     },
     "execution_count": 6,
     "metadata": {},
     "output_type": "execute_result"
    }
   ],
   "source": [
    "df.isna().sum()"
   ]
  },
  {
   "cell_type": "code",
   "execution_count": 5,
   "metadata": {},
   "outputs": [
    {
     "data": {
      "text/html": [
       "<div>\n",
       "<style scoped>\n",
       "    .dataframe tbody tr th:only-of-type {\n",
       "        vertical-align: middle;\n",
       "    }\n",
       "\n",
       "    .dataframe tbody tr th {\n",
       "        vertical-align: top;\n",
       "    }\n",
       "\n",
       "    .dataframe thead th {\n",
       "        text-align: right;\n",
       "    }\n",
       "</style>\n",
       "<table border=\"1\" class=\"dataframe\">\n",
       "  <thead>\n",
       "    <tr style=\"text-align: right;\">\n",
       "      <th></th>\n",
       "      <th>Unnamed: 0</th>\n",
       "      <th>duration</th>\n",
       "      <th>days_left</th>\n",
       "      <th>price</th>\n",
       "    </tr>\n",
       "  </thead>\n",
       "  <tbody>\n",
       "    <tr>\n",
       "      <th>count</th>\n",
       "      <td>300153.000000</td>\n",
       "      <td>300153.000000</td>\n",
       "      <td>300153.000000</td>\n",
       "      <td>300153.000000</td>\n",
       "    </tr>\n",
       "    <tr>\n",
       "      <th>mean</th>\n",
       "      <td>150076.000000</td>\n",
       "      <td>12.221021</td>\n",
       "      <td>26.004751</td>\n",
       "      <td>20889.660523</td>\n",
       "    </tr>\n",
       "    <tr>\n",
       "      <th>std</th>\n",
       "      <td>86646.852011</td>\n",
       "      <td>7.191997</td>\n",
       "      <td>13.561004</td>\n",
       "      <td>22697.767366</td>\n",
       "    </tr>\n",
       "    <tr>\n",
       "      <th>min</th>\n",
       "      <td>0.000000</td>\n",
       "      <td>0.830000</td>\n",
       "      <td>1.000000</td>\n",
       "      <td>1105.000000</td>\n",
       "    </tr>\n",
       "    <tr>\n",
       "      <th>25%</th>\n",
       "      <td>75038.000000</td>\n",
       "      <td>6.830000</td>\n",
       "      <td>15.000000</td>\n",
       "      <td>4783.000000</td>\n",
       "    </tr>\n",
       "    <tr>\n",
       "      <th>50%</th>\n",
       "      <td>150076.000000</td>\n",
       "      <td>11.250000</td>\n",
       "      <td>26.000000</td>\n",
       "      <td>7425.000000</td>\n",
       "    </tr>\n",
       "    <tr>\n",
       "      <th>75%</th>\n",
       "      <td>225114.000000</td>\n",
       "      <td>16.170000</td>\n",
       "      <td>38.000000</td>\n",
       "      <td>42521.000000</td>\n",
       "    </tr>\n",
       "    <tr>\n",
       "      <th>max</th>\n",
       "      <td>300152.000000</td>\n",
       "      <td>49.830000</td>\n",
       "      <td>49.000000</td>\n",
       "      <td>123071.000000</td>\n",
       "    </tr>\n",
       "  </tbody>\n",
       "</table>\n",
       "</div>"
      ],
      "text/plain": [
       "          Unnamed: 0       duration      days_left          price\n",
       "count  300153.000000  300153.000000  300153.000000  300153.000000\n",
       "mean   150076.000000      12.221021      26.004751   20889.660523\n",
       "std     86646.852011       7.191997      13.561004   22697.767366\n",
       "min         0.000000       0.830000       1.000000    1105.000000\n",
       "25%     75038.000000       6.830000      15.000000    4783.000000\n",
       "50%    150076.000000      11.250000      26.000000    7425.000000\n",
       "75%    225114.000000      16.170000      38.000000   42521.000000\n",
       "max    300152.000000      49.830000      49.000000  123071.000000"
      ]
     },
     "execution_count": 5,
     "metadata": {},
     "output_type": "execute_result"
    }
   ],
   "source": [
    "df.describe()"
   ]
  },
  {
   "cell_type": "code",
   "execution_count": 6,
   "metadata": {},
   "outputs": [
    {
     "name": "stdout",
     "output_type": "stream",
     "text": [
      "Unnamed: 0 300153\n",
      "airline 6\n",
      "flight 1561\n",
      "source_city 6\n",
      "departure_time 6\n",
      "stops 3\n",
      "arrival_time 6\n",
      "destination_city 6\n",
      "class 2\n",
      "duration 476\n",
      "days_left 49\n",
      "price 12157\n"
     ]
    }
   ],
   "source": [
    "for i in df.columns:\n",
    "    print(i, df[i].nunique())"
   ]
  },
  {
   "cell_type": "code",
   "execution_count": 7,
   "metadata": {},
   "outputs": [
    {
     "data": {
      "text/plain": [
       "Index(['Unnamed: 0', 'airline', 'flight', 'source_city', 'departure_time',\n",
       "       'stops', 'arrival_time', 'destination_city', 'class', 'duration',\n",
       "       'days_left', 'price'],\n",
       "      dtype='object')"
      ]
     },
     "execution_count": 7,
     "metadata": {},
     "output_type": "execute_result"
    }
   ],
   "source": [
    "df.columns"
   ]
  },
  {
   "cell_type": "code",
   "execution_count": 8,
   "metadata": {},
   "outputs": [
    {
     "name": "stdout",
     "output_type": "stream",
     "text": [
      "airline\n",
      "AirAsia       4091.072742\n",
      "Air_India    23507.019112\n",
      "GO_FIRST      5652.007595\n",
      "Indigo        5324.216303\n",
      "SpiceJet      6179.278881\n",
      "Vistara      30396.536302\n",
      "Name: price, dtype: float64\n",
      "=========================\n",
      "flight\n",
      "6E-102     2067.435897\n",
      "6E-105     4079.000000\n",
      "6E-113     5073.938776\n",
      "6E-121     1702.000000\n",
      "6E-123     6249.400000\n",
      "              ...     \n",
      "UK-988    37685.530775\n",
      "UK-993    30494.012075\n",
      "UK-994    36401.095837\n",
      "UK-995    31270.540039\n",
      "UK-996    38622.834913\n",
      "Name: price, Length: 1561, dtype: float64\n",
      "=========================\n",
      "source_city\n",
      "Bangalore    21469.460575\n",
      "Chennai      21995.339871\n",
      "Delhi        18951.326639\n",
      "Hyderabad    20155.623879\n",
      "Kolkata      21746.235679\n",
      "Mumbai       21483.818839\n",
      "Name: price, dtype: float64\n",
      "=========================\n",
      "departure_time\n",
      "Afternoon        18179.203331\n",
      "Early_Morning    20370.676718\n",
      "Evening          21232.361894\n",
      "Late_Night        9295.299387\n",
      "Morning          21630.760254\n",
      "Night            23062.146808\n",
      "Name: price, dtype: float64\n",
      "=========================\n",
      "stops\n",
      "one            22900.992482\n",
      "two_or_more    14113.450775\n",
      "zero            9375.938535\n",
      "Name: price, dtype: float64\n",
      "=========================\n",
      "arrival_time\n",
      "Afternoon        18494.598993\n",
      "Early_Morning    14993.139521\n",
      "Evening          23044.371615\n",
      "Late_Night       11284.906078\n",
      "Morning          22231.076098\n",
      "Night            21586.758341\n",
      "Name: price, dtype: float64\n",
      "=========================\n",
      "destination_city\n",
      "Bangalore    21593.955784\n",
      "Chennai      21953.323969\n",
      "Delhi        18436.767870\n",
      "Hyderabad    20427.661284\n",
      "Kolkata      21959.557556\n",
      "Mumbai       21372.529469\n",
      "Name: price, dtype: float64\n",
      "=========================\n",
      "class\n",
      "Business    52540.081124\n",
      "Economy      6572.342383\n",
      "Name: price, dtype: float64\n",
      "=========================\n"
     ]
    }
   ],
   "source": [
    "cat_cols = ['airline', 'flight', 'source_city', 'departure_time',\n",
    "       'stops', 'arrival_time', 'destination_city', 'class']\n",
    "\n",
    "for i in cat_cols:\n",
    "    print(df.groupby(i)['price'].mean())\n",
    "    print('='*25)"
   ]
  },
  {
   "cell_type": "code",
   "execution_count": 9,
   "metadata": {},
   "outputs": [
    {
     "name": "stdout",
     "output_type": "stream",
     "text": [
      "class     airline  \n",
      "Business  Air_India    47131.039212\n",
      "          Vistara      55477.027777\n",
      "Economy   AirAsia       4091.072742\n",
      "          Air_India     7313.682169\n",
      "          GO_FIRST      5652.007595\n",
      "          Indigo        5324.216303\n",
      "          SpiceJet      6179.278881\n",
      "          Vistara       7806.943645\n",
      "Name: price, dtype: float64\n",
      "=========================\n",
      "class     flight\n",
      "Business  AI-401    48058.403922\n",
      "          AI-402    52583.321477\n",
      "          AI-403    37054.638889\n",
      "          AI-406    44118.333333\n",
      "          AI-407    36924.090909\n",
      "                        ...     \n",
      "Economy   UK-988     7071.857143\n",
      "          UK-993     6224.652747\n",
      "          UK-994     7192.028007\n",
      "          UK-995     6751.474708\n",
      "          UK-996     7048.294719\n",
      "Name: price, Length: 1855, dtype: float64\n",
      "=========================\n",
      "class     source_city\n",
      "Business  Bangalore      53723.539687\n",
      "          Chennai        54140.530529\n",
      "          Delhi          48697.983457\n",
      "          Hyderabad      50370.466200\n",
      "          Kolkata        56607.860536\n",
      "          Mumbai         52740.521251\n",
      "Economy   Bangalore       6582.057019\n",
      "          Chennai         6606.279699\n",
      "          Delhi           6288.585423\n",
      "          Hyderabad       6235.770619\n",
      "          Kolkata         7458.632354\n",
      "          Mumbai          6358.920050\n",
      "Name: price, dtype: float64\n",
      "=========================\n",
      "class     departure_time\n",
      "Business  Afternoon         51056.863495\n",
      "          Early_Morning     52446.000050\n",
      "          Evening           52695.837090\n",
      "          Late_Night        47471.971014\n",
      "          Morning           53365.483091\n",
      "          Night             52512.726456\n",
      "Economy   Afternoon          6473.095872\n",
      "          Early_Morning      6560.315392\n",
      "          Evening            6360.750741\n",
      "          Late_Night         4784.699486\n",
      "          Morning            7119.019664\n",
      "          Night              6205.964764\n",
      "Name: price, dtype: float64\n",
      "=========================\n",
      "class     stops      \n",
      "Business  one            54687.377156\n",
      "          two_or_more    70127.660203\n",
      "          zero           27846.339052\n",
      "Economy   one             6812.857800\n",
      "          two_or_more     9142.264279\n",
      "          zero            4012.624615\n",
      "Name: price, dtype: float64\n",
      "=========================\n",
      "class     arrival_time \n",
      "Business  Afternoon        48585.240805\n",
      "          Early_Morning    47702.614969\n",
      "          Evening          54195.230728\n",
      "          Late_Night       51856.984724\n",
      "          Morning          51956.226154\n",
      "          Night            53591.000896\n",
      "Economy   Afternoon         6407.028152\n",
      "          Early_Morning     5336.658237\n",
      "          Evening           7206.771859\n",
      "          Late_Night        5173.086538\n",
      "          Morning           6416.474542\n",
      "          Night             6727.078912\n",
      "Name: price, dtype: float64\n",
      "=========================\n",
      "class     destination_city\n",
      "Business  Bangalore           53832.537597\n",
      "          Chennai             53617.092871\n",
      "          Delhi               48088.076914\n",
      "          Hyderabad           50428.510128\n",
      "          Kolkata             56738.007047\n",
      "          Mumbai              52866.332842\n",
      "Economy   Bangalore            6618.316318\n",
      "          Chennai              6641.605072\n",
      "          Delhi                6251.088579\n",
      "          Hyderabad            6305.544732\n",
      "          Kolkata              7200.518058\n",
      "          Mumbai               6459.578293\n",
      "Name: price, dtype: float64\n",
      "=========================\n",
      "class     class   \n",
      "Business  Business    52540.081124\n",
      "Economy   Economy      6572.342383\n",
      "Name: price, dtype: float64\n",
      "=========================\n"
     ]
    }
   ],
   "source": [
    "for i in cat_cols:\n",
    "    print(df.groupby(['class', i])['price'].mean())\n",
    "    print('='*25)"
   ]
  },
  {
   "cell_type": "code",
   "execution_count": 11,
   "metadata": {},
   "outputs": [
    {
     "data": {
      "text/plain": [
       "class\n",
       "Business    Axes(0.125,0.11;0.775x0.77)\n",
       "Economy     Axes(0.125,0.11;0.775x0.77)\n",
       "Name: price, dtype: object"
      ]
     },
     "execution_count": 11,
     "metadata": {},
     "output_type": "execute_result"
    },
    {
     "data": {
      "image/png": "[encoded data removed]",
      "text/plain": [
       "<Figure size 640x480 with 1 Axes>"
      ]
     },
     "metadata": {},
     "output_type": "display_data"
    }
   ],
   "source": [
    "df.groupby('class')['price'].plot(kind = 'hist', bins = 50)"
   ]
  },
  {
   "cell_type": "code",
   "execution_count": 14,
   "metadata": {},
   "outputs": [
    {
     "data": {
      "text/plain": [
       "<Axes: >"
      ]
     },
     "execution_count": 14,
     "metadata": {},
     "output_type": "execute_result"
    },
    {
     "data": {
      "image/png": "[encoded data removed]",
      "text/plain": [
       "<Figure size 640x480 with 2 Axes>"
      ]
     },
     "metadata": {},
     "output_type": "display_data"
    }
   ],
   "source": [
    "sns.heatmap(data = df.loc[:, ['duration', 'days_left', 'price']].corr(), annot = True)"
   ]
  },
  {
   "cell_type": "code",
   "execution_count": null,
   "metadata": {},
   "outputs": [],
   "source": []
  }
 ],
 "metadata": {
  "kernelspec": {
   "display_name": ".venv",
   "language": "python",
   "name": "python3"
  },
  "language_info": {
   "codemirror_mode": {
    "name": "ipython",
    "version": 3
   },
   "file_extension": ".py",
   "mimetype": "text/x-python",
   "name": "python",
   "nbconvert_exporter": "python",
   "pygments_lexer": "ipython3",
   "version": "3.13.1"
  }
 },
 "nbformat": 4,
 "nbformat_minor": 2
}
