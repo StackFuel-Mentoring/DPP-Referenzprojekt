{
 "cells": [
  {
   "cell_type": "code",
   "execution_count": 86,
   "metadata": {},
   "outputs": [],
   "source": [
    "import pandas as pd\n",
    "import numpy as np\n",
    "import matplotlib.pyplot as plt\n",
    "import seaborn as sns\n"
   ]
  },
  {
   "cell_type": "code",
   "execution_count": 87,
   "metadata": {},
   "outputs": [],
   "source": [
    "from IPython.display import display, Markdown, Latex"
   ]
  },
  {
   "cell_type": "code",
   "execution_count": null,
   "metadata": {},
   "outputs": [],
   "source": [
    "df = pd.read_csv('data/Clean_Dataset.csv')\n",
    "df.sample(20)"
   ]
  },
  {
   "cell_type": "code",
   "execution_count": null,
   "metadata": {},
   "outputs": [],
   "source": [
    "df.shape"
   ]
  },
  {
   "cell_type": "code",
   "execution_count": null,
   "metadata": {},
   "outputs": [],
   "source": [
    "df.isna().sum()"
   ]
  },
  {
   "cell_type": "code",
   "execution_count": null,
   "metadata": {},
   "outputs": [],
   "source": [
    "df.describe()"
   ]
  },
  {
   "cell_type": "code",
   "execution_count": null,
   "metadata": {},
   "outputs": [],
   "source": [
    "print(f\"{'column':<20}{'# unique values'}\")\n",
    "print(\"-\"*40)\n",
    "for column in df.columns:\n",
    "    print(f\"{column:<20}{df[column].nunique()}\")"
   ]
  },
  {
   "cell_type": "code",
   "execution_count": null,
   "metadata": {},
   "outputs": [],
   "source": [
    "df.dtypes"
   ]
  },
  {
   "cell_type": "code",
   "execution_count": null,
   "metadata": {},
   "outputs": [],
   "source": [
    "CAT_COLS = [\n",
    "    'airline',\n",
    "    'flight',\n",
    "    'source_city',\n",
    "    'departure_time',\n",
    "    'stops',\n",
    "    'arrival_time',\n",
    "    'destination_city',\n",
    "    'class',\n",
    "]\n",
    "\n",
    "NUM_COLS = [\n",
    "    'duration',\n",
    "    'days_left',\n",
    "    'price',\n",
    "]\n",
    "\n",
    "CAT_COLS_SMALL = CAT_COLS.copy()\n",
    "CAT_COLS_SMALL.remove(\"flight\")\n",
    "\n",
    "df_eco = df[df[\"class\"] == \"Economy\"]\n",
    "df_bus = df[df[\"class\"] == \"Business\"]\n",
    "\n",
    "\n",
    "print(f\"{CAT_COLS=}\")\n",
    "print(f\"{CAT_COLS_SMALL=}\")\n",
    "print(f\"{NUM_COLS=}\")"
   ]
  },
  {
   "cell_type": "code",
   "execution_count": null,
   "metadata": {},
   "outputs": [],
   "source": [
    "print(\"Cat Cols values:\")\n",
    "print()\n",
    "\n",
    "for column in CAT_COLS:\n",
    "    print(f\"{column.upper()}:\")\n",
    "    print(\", \".join(df[column].unique()))\n",
    "    print()"
   ]
  },
  {
   "cell_type": "code",
   "execution_count": null,
   "metadata": {},
   "outputs": [],
   "source": [
    "# Calculate heights based on unique categories in each categorical column\n",
    "heights = [df[col].nunique() for col in CAT_COLS_SMALL]\n",
    "total_height = sum(heights)\n",
    "colors = ['#1f77b4', '#ff7f0e', '#2ca02c', '#d62728', '#9467bd', '#8c564b', '#e377c2']\n",
    "\n",
    "fig, axs = plt.subplots(\n",
    "    ncols=1,\n",
    "    nrows=len(CAT_COLS_SMALL),\n",
    "    figsize=(10, len(CAT_COLS_SMALL)),\n",
    "    sharex=True,\n",
    "    gridspec_kw={'height_ratios': heights}  # Use height_ratios to adjust each row's height\n",
    ")\n",
    "\n",
    "for column, ax, color in zip(CAT_COLS_SMALL, axs.flatten(), colors):\n",
    "    order = df[column].value_counts().index    \n",
    "    sns.countplot(\n",
    "        df,\n",
    "        y=column,\n",
    "        ax=ax,\n",
    "        order=order,\n",
    "        color=color,\n",
    "    )\n",
    "    \n",
    "for column, ax, color in zip(CAT_COLS_SMALL, axs.flatten(), colors):\n",
    "    order = df[column].value_counts().index    \n",
    "    sns.countplot(\n",
    "        df_bus,\n",
    "        y=column,\n",
    "        ax=ax,\n",
    "        order=order,\n",
    "        color=\"white\",\n",
    "        alpha=0.5\n",
    "    )\n",
    "\n",
    "fig.tight_layout()\n",
    "plt.subplots_adjust(hspace=0.0, wspace=0)"
   ]
  },
  {
   "cell_type": "code",
   "execution_count": null,
   "metadata": {},
   "outputs": [],
   "source": [
    "len(CAT_COLS_SMALL)"
   ]
  },
  {
   "cell_type": "code",
   "execution_count": null,
   "metadata": {},
   "outputs": [],
   "source": [
    "# Calculate heights based on unique categories in each categorical column\n",
    "heights = [df[col].nunique() for col in CAT_COLS_SMALL]\n",
    "total_height = sum(heights)\n",
    "colors = ['#1f77b4', '#ff7f0e', '#2ca02c', '#d62728', '#9467bd', '#8c564b', '#e377c2']\n",
    "\n",
    "def create_bar_plot(df):\n",
    "\n",
    "    # Create subplots – one column per categorical column\n",
    "    _, axs = plt.subplots(\n",
    "        nrows=len(CAT_COLS_SMALL),  # Transpose: Now each row corresponds to a categorical column\n",
    "        ncols=len(NUM_COLS),        # Transpose: Each column corresponds to a numerical column\n",
    "        figsize=(15, total_height * 0.3),  # Adjust height dynamically based on total height\n",
    "        sharex='col',  # Sharing x-axis along each column\n",
    "        sharey='row',\n",
    "        gridspec_kw={'height_ratios': heights}  # Use height_ratios to adjust each row's height\n",
    "    )\n",
    "    # Iterate over categorical columns using enumerate\n",
    "    for (row_index, cat_col), color in zip(enumerate(CAT_COLS_SMALL), colors):\n",
    "        for col_index, num_col in enumerate(NUM_COLS):\n",
    "            \n",
    "            # Access the subplot using the current index\n",
    "            ax = axs[row_index, col_index]\n",
    "            \n",
    "            # Create a boxplot for the current combination with numerical categories on y-axis\n",
    "            sns.boxplot(\n",
    "                data=df,\n",
    "                x=num_col,  # Numerical column on x-axis\n",
    "                y=cat_col,  # Categorical data on y-axis\n",
    "                ax=ax,\n",
    "                #hue=\"class\",\n",
    "                color=color,\n",
    "            )\n",
    "\n",
    "    # Adjust layout to remove gaps\n",
    "    plt.subplots_adjust(hspace=0.0, wspace=0)\n",
    "\n",
    "    plt.show()\n",
    "\n",
    "\n",
    "display(Markdown(\"## Economy Flights\"))\n",
    "create_bar_plot(df_eco)\n",
    "\n",
    "display(Markdown(\"## Business Flights\"))\n",
    "create_bar_plot(df_bus)\n"
   ]
  },
  {
   "cell_type": "code",
   "execution_count": null,
   "metadata": {},
   "outputs": [],
   "source": [
    "fig, axs = plt.subplots(\n",
    "    ncols=1,\n",
    "    nrows=len(NUM_COLS),\n",
    "    figsize=(10, 12),\n",
    ")\n",
    "\n",
    "for column, ax in zip(NUM_COLS, axs.flatten()):\n",
    "    sns.histplot(\n",
    "        data=df,\n",
    "        x=column,\n",
    "        bins=100,\n",
    "        ax=ax,\n",
    "        hue=\"class\",\n",
    "    )\n",
    "    \n",
    "fig.tight_layout()"
   ]
  },
  {
   "cell_type": "code",
   "execution_count": null,
   "metadata": {},
   "outputs": [],
   "source": [
    "fig, ax = plt.subplots(1, 1, figsize=(10, 5))\n",
    "\n",
    "sns.regplot(df_eco.sample(1000), y=\"price\", x=\"days_left\", ax=ax, marker=\".\", order=2)\n",
    "sns.regplot(df_bus.sample(1000), y=\"price\", x=\"days_left\", ax=ax, marker=\".\", order=1)\n"
   ]
  },
  {
   "cell_type": "code",
   "execution_count": null,
   "metadata": {},
   "outputs": [],
   "source": [
    "sns.pairplot(data=df.sample(2000), hue=\"class\")"
   ]
  },
  {
   "cell_type": "code",
   "execution_count": null,
   "metadata": {},
   "outputs": [],
   "source": [
    "# Define datasets and plotting parameters\n",
    "datasets = [\n",
    "    {'df': df_eco, 'cmap': 'Blues'},\n",
    "    {'df': df_bus, 'cmap': 'Oranges'},\n",
    "]\n",
    "\n",
    "metrics = [\n",
    "    {'title': 'Count of Flights', 'aggfunc': None, 'values': None},\n",
    "    {'title': 'Mean Duration', 'aggfunc': 'mean', 'values': 'duration'},\n",
    "    {'title': 'Mean Price', 'aggfunc': 'mean', 'values': 'price'},\n",
    "]\n",
    "\n",
    "# Create subplots\n",
    "fig, axs = plt.subplots(nrows=2, ncols=3, figsize=(15, 10), sharex=True, sharey=True)\n",
    "\n",
    "# Iterate over datasets and metrics to create heatmaps\n",
    "for i, dataset in enumerate(datasets):\n",
    "    df = dataset['df']\n",
    "    cmap = dataset['cmap']\n",
    "    \n",
    "    for j, metric in enumerate(metrics):\n",
    "        ax = axs[i, j]\n",
    "\n",
    "        # Compute crosstab\n",
    "        crosstab_data = pd.crosstab(\n",
    "            index=df['source_city'],\n",
    "            columns=df['destination_city'],\n",
    "            values=df[metric['values']] if metric['values'] else None,\n",
    "            aggfunc=metric['aggfunc'],\n",
    "            dropna=False\n",
    "        ).replace(0, np.nan)\n",
    "        \n",
    "        # Plot heatmap\n",
    "        sns.heatmap(\n",
    "            crosstab_data,\n",
    "            cmap=cmap,\n",
    "            annot=True,\n",
    "            fmt=\".5g\",\n",
    "            cbar=False,\n",
    "            vmin=crosstab_data.min().min(),\n",
    "            ax=ax\n",
    "        )\n",
    "\n",
    "        # Set titles and labels\n",
    "        ax.set_title(metric['title'] if i == 0 else None)\n",
    "        ax.set_xlabel('Destination City' if i == 1 else None)\n",
    "        ax.set_ylabel('Source City' if j == 0 else None)\n",
    "        ax.tick_params(left=False, bottom=False, labelrotation=0)\n",
    "\n",
    "plt.tight_layout()\n",
    "plt.show()"
   ]
  },
  {
   "cell_type": "code",
   "execution_count": null,
   "metadata": {},
   "outputs": [],
   "source": [
    "for column in CAT_COLS:\n",
    "    print(df.groupby(column)['price'].mean())\n",
    "    print('='*25)"
   ]
  },
  {
   "cell_type": "code",
   "execution_count": null,
   "metadata": {},
   "outputs": [],
   "source": [
    "for i in CAT_COLS:\n",
    "    print(df.groupby(['class', i])['price'].mean())\n",
    "    print('='*25)"
   ]
  },
  {
   "cell_type": "code",
   "execution_count": null,
   "metadata": {},
   "outputs": [],
   "source": [
    "df.groupby('class')['price'].plot(kind = 'hist', bins = 50)"
   ]
  },
  {
   "cell_type": "code",
   "execution_count": null,
   "metadata": {},
   "outputs": [],
   "source": [
    "sns.heatmap(data = df.loc[:, ['duration', 'days_left', 'price']].corr(), annot = True)"
   ]
  },
  {
   "cell_type": "code",
   "execution_count": null,
   "metadata": {},
   "outputs": [],
   "source": [
    "mask_eco = df.loc[:, 'class'] == 'Economy'\n",
    "df.loc[mask_eco, :].describe()"
   ]
  },
  {
   "cell_type": "code",
   "execution_count": null,
   "metadata": {},
   "outputs": [],
   "source": [
    "mask_bis = df.loc[:, 'class'] == 'Business'\n",
    "df.loc[mask_bis, :].describe()"
   ]
  },
  {
   "cell_type": "code",
   "execution_count": null,
   "metadata": {},
   "outputs": [],
   "source": []
  }
 ],
 "metadata": {
  "kernelspec": {
   "display_name": ".venv",
   "language": "python",
   "name": "python3"
  },
  "language_info": {
   "codemirror_mode": {
    "name": "ipython",
    "version": 3
   },
   "file_extension": ".py",
   "mimetype": "text/x-python",
   "name": "python",
   "nbconvert_exporter": "python",
   "pygments_lexer": "ipython3",
   "version": "3.13.1"
  }
 },
 "nbformat": 4,
 "nbformat_minor": 2
}
