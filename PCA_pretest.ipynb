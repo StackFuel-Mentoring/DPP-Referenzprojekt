{
 "cells": [
  {
   "cell_type": "markdown",
   "metadata": {},
   "source": [
    "# Pretest for PCA with column 'flight'\n",
    "\n",
    "The column 'flight' shows the flight number of each plane.\n",
    "There are over 1500 unique flights in the data.\n",
    "PCA is used to reduce the number of columns after OneHotEncoding without losing to much variance.\n",
    "\n",
    "Background:\n",
    "Behind the flight number is a specific aircraft type with a specific kerosene consumption. Kerosene prices have an impact on flight prices. Kerosene consumption also depends on the flight altitude and speed.\n",
    "\n",
    "The aircraft types, altitude and speed can be read out e.g. via flightaware.com. Information on average kerosene consumption can then also be read from the aircraft types.\n",
    "\n",
    "As the flight altitude and speed are standardized for each flight, this information is contained in the flight numbers.\n",
    "\n",
    "PCA is used here as an attempt to retain the flight numbers with the information hidden in them and to reduce the number of columns for model training."
   ]
  },
  {
   "cell_type": "code",
   "execution_count": 1,
   "metadata": {},
   "outputs": [],
   "source": [
    "# importing modules\n",
    "import pandas as pd\n",
    "import numpy as np\n",
    "import matplotlib.pyplot as plt\n",
    "import seaborn as sns\n",
    "\n",
    "from sklearn.decomposition import PCA\n",
    "from sklearn.model_selection import train_test_split\n",
    "from sklearn.pipeline import Pipeline\n",
    "from sklearn.preprocessing import OneHotEncoder\n",
    "from sklearn.compose import ColumnTransformer\n",
    "from sklearn.model_selection import validation_curve"
   ]
  },
  {
   "cell_type": "code",
   "execution_count": null,
   "metadata": {},
   "outputs": [],
   "source": [
    "# reading data\n",
    "df = pd.read_csv('data/Clean_Dataset.csv')\n",
    "df.head()"
   ]
  },
  {
   "cell_type": "code",
   "execution_count": null,
   "metadata": {},
   "outputs": [],
   "source": [
    "# Train-Test-Split\n",
    "df_train, df_test = train_test_split(df, test_size = 0.3, random_state = 42)\n",
    "\n",
    "print(df_train.shape)\n",
    "print(df_test.shape)"
   ]
  },
  {
   "cell_type": "code",
   "execution_count": null,
   "metadata": {},
   "outputs": [],
   "source": [
    "# Second Train-Test-Split for val/aim data\n",
    "df_test, df_aim = train_test_split(df_test, test_size=0.33, random_state = 42)\n",
    "\n",
    "print(df_test.shape)\n",
    "print(df_aim.shape)"
   ]
  },
  {
   "cell_type": "code",
   "execution_count": null,
   "metadata": {},
   "outputs": [],
   "source": [
    "# splitting train data into features and target\n",
    "features_train = df_train.drop('price', axis = 1)\n",
    "target_train = df_train['price']\n",
    "\n",
    "print(features_train.shape)\n",
    "print(target_train.shape)"
   ]
  },
  {
   "cell_type": "code",
   "execution_count": null,
   "metadata": {},
   "outputs": [],
   "source": [
    "# OHE for flight number\n",
    "ohe_feature = ['flight']\n",
    "\n",
    "# Instantiating CT with OHE \n",
    "# Since it is just a pretest for using PCA only for flight all other features are dropped here\n",
    "preprocessor = ColumnTransformer(transformers = [('ohe', OneHotEncoder(sparse_output = False, handle_unknown = 'ignore'), ohe_feature)], remainder = 'drop')\n",
    "\n",
    "\n",
    "# Instantiating Pipeline\n",
    "ohe_pipe = Pipeline([('preprocessor', preprocessor)])\n",
    "\n",
    "#\n",
    "ohe_train = ohe_pipe.fit_transform(features_train)\n",
    "\n",
    "# getting DataFrame back with column names and index from features'_train\n",
    "ohe_train = pd.DataFrame(data = ohe_train, columns = ohe_pipe.named_steps['preprocessor'].transformers_[0][1].get_feature_names_out(ohe_feature), index = features_train.index)\n",
    "ohe_train.head()"
   ]
  },
  {
   "cell_type": "code",
   "execution_count": null,
   "metadata": {},
   "outputs": [],
   "source": [
    "# testing vor n components for 0.9 explained variance\n",
    "pca = PCA(n_components = 0.8)\n",
    "\n",
    "# 0.9 = 618 Features\n",
    "# 0.8 = 371 Features\n",
    "# 0.7 = 239 Features\n",
    "\n",
    "ohe_train_transformed = pca.fit_transform(ohe_train)\n",
    "pca.components_"
   ]
  },
  {
   "cell_type": "code",
   "execution_count": null,
   "metadata": {},
   "outputs": [],
   "source": [
    "pd.DataFrame(ohe_train_transformed).shape"
   ]
  },
  {
   "cell_type": "markdown",
   "metadata": {},
   "source": [
    "## Conclusion\n",
    "\n",
    "* Doubtable if column 'flight' will have an influence on the performance\n",
    "* PCA will reduce number of columns not to the extend as expected\n",
    "    - Explained variance 0.9 equals 618 features\n",
    "    - Explained variance 0.8 equals 371 features\n",
    "    - Explained variance 0.7 equals 239 features\n",
    "* We will test it with a model, expecting long training process\n",
    "* There is more additional and clear information for flight numbers available\n",
    "    - aircraft type via flightaware.com\n",
    "    - from aircraft type to (average) cerosin consumption (since prices of cerosine have an influence on prices)\n",
    "    - Height of flight (average)\n",
    "    - Speed of flight (average)\n"
   ]
  }
 ],
 "metadata": {
  "kernelspec": {
   "display_name": ".venv",
   "language": "python",
   "name": "python3"
  },
  "language_info": {
   "codemirror_mode": {
    "name": "ipython",
    "version": 3
   },
   "file_extension": ".py",
   "mimetype": "text/x-python",
   "name": "python",
   "nbconvert_exporter": "python",
   "pygments_lexer": "ipython3",
   "version": "3.13.1"
  }
 },
 "nbformat": 4,
 "nbformat_minor": 2
}
